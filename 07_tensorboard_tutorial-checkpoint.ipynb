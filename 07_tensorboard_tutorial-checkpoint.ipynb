{
  "nbformat": 4,
  "nbformat_minor": 0,
  "metadata": {
    "kernelspec": {
      "display_name": "Python 3",
      "language": "python",
      "name": "python3"
    },
    "language_info": {
      "codemirror_mode": {
        "name": "ipython",
        "version": 3
      },
      "file_extension": ".py",
      "mimetype": "text/x-python",
      "name": "python",
      "nbconvert_exporter": "python",
      "pygments_lexer": "ipython3",
      "version": "3.6.8"
    },
    "colab": {
      "name": "07_tensorboard_tutorial-checkpoint.ipynb",
      "provenance": []
    }
  },
  "cells": [
    {
      "cell_type": "markdown",
      "metadata": {
        "id": "NShiAzVdFqbi",
        "colab_type": "text"
      },
      "source": [
        "\n",
        "Example how to use Tensorboard, more details: https://pytorch.org/tutorials/intermediate/tensorboard_tutorial.html#visualizing-models-data-and-training-with-tensorboard\n"
      ]
    },
    {
      "cell_type": "code",
      "metadata": {
        "id": "lQ3GCkj4Fpkz",
        "colab_type": "code",
        "colab": {}
      },
      "source": [
        "# imports\n",
        "import matplotlib.pyplot as plt\n",
        "import numpy as np\n",
        "\n",
        "import torch\n",
        "import torchvision\n",
        "import torchvision.transforms as transforms\n",
        "\n",
        "import torch.nn as nn\n",
        "import torch.nn.functional as F\n",
        "import torch.optim as optim\n",
        "\n",
        "# transforms\n",
        "transform = transforms.Compose(\n",
        "    [transforms.ToTensor(),\n",
        "    transforms.Normalize((0.5,), (0.5,))])\n",
        "\n",
        "# datasets\n",
        "trainset = torchvision.datasets.FashionMNIST('./data',\n",
        "    download=True,\n",
        "    train=True,\n",
        "    transform=transform)\n",
        "testset = torchvision.datasets.FashionMNIST('./data',\n",
        "    download=True,\n",
        "    train=False,\n",
        "    transform=transform)\n",
        "\n",
        "# dataloaders\n",
        "trainloader = torch.utils.data.DataLoader(trainset, batch_size=4,\n",
        "                                        shuffle=True, num_workers=2)\n",
        "\n",
        "\n",
        "testloader = torch.utils.data.DataLoader(testset, batch_size=4,\n",
        "                                        shuffle=False, num_workers=2)\n",
        "\n",
        "# constant for classes\n",
        "classes = ('T-shirt/top', 'Trouser', 'Pullover', 'Dress', 'Coat',\n",
        "        'Sandal', 'Shirt', 'Sneaker', 'Bag', 'Ankle Boot')\n",
        "\n",
        "# helper function to show an image\n",
        "# (used in the `plot_classes_preds` function below)\n",
        "def matplotlib_imshow(img, one_channel=False):\n",
        "    if one_channel:\n",
        "        img = img.mean(dim=0)\n",
        "    img = img / 2 + 0.5     # unnormalize\n",
        "    npimg = img.numpy()\n",
        "    if one_channel:\n",
        "        plt.imshow(npimg, cmap=\"Greys\")\n",
        "    else:\n",
        "        plt.imshow(np.transpose(npimg, (1, 2, 0)))"
      ],
      "execution_count": 0,
      "outputs": []
    },
    {
      "cell_type": "code",
      "metadata": {
        "id": "n7qQ2xgnFpk_",
        "colab_type": "code",
        "colab": {}
      },
      "source": [
        "class Net(nn.Module):\n",
        "    def __init__(self):\n",
        "        super(Net, self).__init__()\n",
        "        self.conv1 = nn.Conv2d(1, 6, 5)\n",
        "        self.pool = nn.MaxPool2d(2, 2)\n",
        "        self.conv2 = nn.Conv2d(6, 16, 5)\n",
        "        self.fc1 = nn.Linear(16 * 4 * 4, 120)\n",
        "        self.fc2 = nn.Linear(120, 84)\n",
        "        self.fc3 = nn.Linear(84, 10)\n",
        "\n",
        "    def forward(self, x):\n",
        "        x = self.pool(F.relu(self.conv1(x)))\n",
        "        x = self.pool(F.relu(self.conv2(x)))\n",
        "        x = x.view(-1, 16 * 4 * 4)\n",
        "        x = F.relu(self.fc1(x))\n",
        "        x = F.relu(self.fc2(x))\n",
        "        x = self.fc3(x)\n",
        "        return x\n",
        "\n",
        "\n",
        "net = Net()"
      ],
      "execution_count": 0,
      "outputs": []
    },
    {
      "cell_type": "code",
      "metadata": {
        "id": "bgy9ro4wFplm",
        "colab_type": "code",
        "colab": {}
      },
      "source": [
        "criterion = nn.CrossEntropyLoss()\n",
        "optimizer = optim.SGD(net.parameters(), lr=0.001, momentum=0.9)"
      ],
      "execution_count": 0,
      "outputs": []
    },
    {
      "cell_type": "markdown",
      "metadata": {
        "id": "HWrbrZYdFpmU",
        "colab_type": "text"
      },
      "source": [
        "# Tensorboard Setup"
      ]
    },
    {
      "cell_type": "code",
      "metadata": {
        "id": "msVHT4b4FpmV",
        "colab_type": "code",
        "colab": {},
        "outputId": "f0bd3184-0581-4e0b-b3d4-dc952a393bb6"
      },
      "source": [
        "from torch.utils.tensorboard import SummaryWriter\n",
        "\n",
        "# default `log_dir` is \"runs\" - we'll be more specific here\n",
        "writer = SummaryWriter('runs/fashion_mnist_experiment_1')"
      ],
      "execution_count": 0,
      "outputs": [
        {
          "output_type": "stream",
          "text": [
            "/home/jose/.local/lib/python3.6/site-packages/tb_nightly-1.14.0a20190603-py3.6.egg/tensorboard/compat/tensorflow_stub/dtypes.py:541: FutureWarning: Passing (type, 1) or '1type' as a synonym of type is deprecated; in a future version of numpy, it will be understood as (type, (1,)) / '(1,)type'.\n",
            "  _np_qint8 = np.dtype([(\"qint8\", np.int8, 1)])\n",
            "/home/jose/.local/lib/python3.6/site-packages/tb_nightly-1.14.0a20190603-py3.6.egg/tensorboard/compat/tensorflow_stub/dtypes.py:542: FutureWarning: Passing (type, 1) or '1type' as a synonym of type is deprecated; in a future version of numpy, it will be understood as (type, (1,)) / '(1,)type'.\n",
            "  _np_quint8 = np.dtype([(\"quint8\", np.uint8, 1)])\n",
            "/home/jose/.local/lib/python3.6/site-packages/tb_nightly-1.14.0a20190603-py3.6.egg/tensorboard/compat/tensorflow_stub/dtypes.py:543: FutureWarning: Passing (type, 1) or '1type' as a synonym of type is deprecated; in a future version of numpy, it will be understood as (type, (1,)) / '(1,)type'.\n",
            "  _np_qint16 = np.dtype([(\"qint16\", np.int16, 1)])\n",
            "/home/jose/.local/lib/python3.6/site-packages/tb_nightly-1.14.0a20190603-py3.6.egg/tensorboard/compat/tensorflow_stub/dtypes.py:544: FutureWarning: Passing (type, 1) or '1type' as a synonym of type is deprecated; in a future version of numpy, it will be understood as (type, (1,)) / '(1,)type'.\n",
            "  _np_quint16 = np.dtype([(\"quint16\", np.uint16, 1)])\n",
            "/home/jose/.local/lib/python3.6/site-packages/tb_nightly-1.14.0a20190603-py3.6.egg/tensorboard/compat/tensorflow_stub/dtypes.py:545: FutureWarning: Passing (type, 1) or '1type' as a synonym of type is deprecated; in a future version of numpy, it will be understood as (type, (1,)) / '(1,)type'.\n",
            "  _np_qint32 = np.dtype([(\"qint32\", np.int32, 1)])\n",
            "/home/jose/.local/lib/python3.6/site-packages/tb_nightly-1.14.0a20190603-py3.6.egg/tensorboard/compat/tensorflow_stub/dtypes.py:550: FutureWarning: Passing (type, 1) or '1type' as a synonym of type is deprecated; in a future version of numpy, it will be understood as (type, (1,)) / '(1,)type'.\n",
            "  np_resource = np.dtype([(\"resource\", np.ubyte, 1)])\n"
          ],
          "name": "stderr"
        }
      ]
    },
    {
      "cell_type": "markdown",
      "metadata": {
        "id": "1G1OEt-gFpme",
        "colab_type": "text"
      },
      "source": [
        "# Writing to Tensorboard"
      ]
    },
    {
      "cell_type": "code",
      "metadata": {
        "id": "hdKXY8CTFpmf",
        "colab_type": "code",
        "colab": {},
        "outputId": "e35f8e5f-c1e1-40d1-b6fa-12e3ddb1b6a8"
      },
      "source": [
        "# get some random training images\n",
        "dataiter = iter(trainloader)\n",
        "images, labels = dataiter.next()\n",
        "\n",
        "# create grid of images\n",
        "img_grid = torchvision.utils.make_grid(images)\n",
        "\n",
        "# show images\n",
        "matplotlib_imshow(img_grid, one_channel=True)\n",
        "\n",
        "# write to tensorboard\n",
        "writer.add_image('four_fashion_mnist_images', img_grid)"
      ],
      "execution_count": 0,
      "outputs": [
        {
          "output_type": "display_data",
          "data": {
            "image/png": "[encoded data removed]",
            "text/plain": [
              "<Figure size 432x288 with 1 Axes>"
            ]
          },
          "metadata": {
            "tags": [],
            "needs_background": "light"
          }
        }
      ]
    },
    {
      "cell_type": "code",
      "metadata": {
        "id": "8a2R26LAFpmm",
        "colab_type": "code",
        "colab": {}
      },
      "source": [
        "writer.add_graph(net, images)\n",
        "writer.close()"
      ],
      "execution_count": 0,
      "outputs": []
    },
    {
      "cell_type": "code",
      "metadata": {
        "id": "Ud6sSepRFpmq",
        "colab_type": "code",
        "colab": {},
        "outputId": "6cb1f69a-4750-4775-c4fa-a144fa8376c9"
      },
      "source": [
        "! tensorboard --logdir=runs"
      ],
      "execution_count": 0,
      "outputs": [
        {
          "output_type": "stream",
          "text": [
            "/home/jose/.local/lib/python3.6/site-packages/tb_nightly-1.14.0a20190603-py3.6.egg/tensorboard/compat/tensorflow_stub/dtypes.py:541: FutureWarning: Passing (type, 1) or '1type' as a synonym of type is deprecated; in a future version of numpy, it will be understood as (type, (1,)) / '(1,)type'.\n",
            "  _np_qint8 = np.dtype([(\"qint8\", np.int8, 1)])\n",
            "/home/jose/.local/lib/python3.6/site-packages/tb_nightly-1.14.0a20190603-py3.6.egg/tensorboard/compat/tensorflow_stub/dtypes.py:542: FutureWarning: Passing (type, 1) or '1type' as a synonym of type is deprecated; in a future version of numpy, it will be understood as (type, (1,)) / '(1,)type'.\n",
            "  _np_quint8 = np.dtype([(\"quint8\", np.uint8, 1)])\n",
            "/home/jose/.local/lib/python3.6/site-packages/tb_nightly-1.14.0a20190603-py3.6.egg/tensorboard/compat/tensorflow_stub/dtypes.py:543: FutureWarning: Passing (type, 1) or '1type' as a synonym of type is deprecated; in a future version of numpy, it will be understood as (type, (1,)) / '(1,)type'.\n",
            "  _np_qint16 = np.dtype([(\"qint16\", np.int16, 1)])\n",
            "/home/jose/.local/lib/python3.6/site-packages/tb_nightly-1.14.0a20190603-py3.6.egg/tensorboard/compat/tensorflow_stub/dtypes.py:544: FutureWarning: Passing (type, 1) or '1type' as a synonym of type is deprecated; in a future version of numpy, it will be understood as (type, (1,)) / '(1,)type'.\n",
            "  _np_quint16 = np.dtype([(\"quint16\", np.uint16, 1)])\n",
            "/home/jose/.local/lib/python3.6/site-packages/tb_nightly-1.14.0a20190603-py3.6.egg/tensorboard/compat/tensorflow_stub/dtypes.py:545: FutureWarning: Passing (type, 1) or '1type' as a synonym of type is deprecated; in a future version of numpy, it will be understood as (type, (1,)) / '(1,)type'.\n",
            "  _np_qint32 = np.dtype([(\"qint32\", np.int32, 1)])\n",
            "/home/jose/.local/lib/python3.6/site-packages/tb_nightly-1.14.0a20190603-py3.6.egg/tensorboard/compat/tensorflow_stub/dtypes.py:550: FutureWarning: Passing (type, 1) or '1type' as a synonym of type is deprecated; in a future version of numpy, it will be understood as (type, (1,)) / '(1,)type'.\n",
            "  np_resource = np.dtype([(\"resource\", np.ubyte, 1)])\n",
            "/home/jose/.local/lib/python3.6/site-packages/tensorflow-2.0.0b1-py3.6-linux-x86_64.egg/tensorflow/python/framework/dtypes.py:516: FutureWarning: Passing (type, 1) or '1type' as a synonym of type is deprecated; in a future version of numpy, it will be understood as (type, (1,)) / '(1,)type'.\n",
            "  _np_qint8 = np.dtype([(\"qint8\", np.int8, 1)])\n",
            "/home/jose/.local/lib/python3.6/site-packages/tensorflow-2.0.0b1-py3.6-linux-x86_64.egg/tensorflow/python/framework/dtypes.py:517: FutureWarning: Passing (type, 1) or '1type' as a synonym of type is deprecated; in a future version of numpy, it will be understood as (type, (1,)) / '(1,)type'.\n",
            "  _np_quint8 = np.dtype([(\"quint8\", np.uint8, 1)])\n",
            "/home/jose/.local/lib/python3.6/site-packages/tensorflow-2.0.0b1-py3.6-linux-x86_64.egg/tensorflow/python/framework/dtypes.py:518: FutureWarning: Passing (type, 1) or '1type' as a synonym of type is deprecated; in a future version of numpy, it will be understood as (type, (1,)) / '(1,)type'.\n",
            "  _np_qint16 = np.dtype([(\"qint16\", np.int16, 1)])\n",
            "/home/jose/.local/lib/python3.6/site-packages/tensorflow-2.0.0b1-py3.6-linux-x86_64.egg/tensorflow/python/framework/dtypes.py:519: FutureWarning: Passing (type, 1) or '1type' as a synonym of type is deprecated; in a future version of numpy, it will be understood as (type, (1,)) / '(1,)type'.\n",
            "  _np_quint16 = np.dtype([(\"quint16\", np.uint16, 1)])\n",
            "/home/jose/.local/lib/python3.6/site-packages/tensorflow-2.0.0b1-py3.6-linux-x86_64.egg/tensorflow/python/framework/dtypes.py:520: FutureWarning: Passing (type, 1) or '1type' as a synonym of type is deprecated; in a future version of numpy, it will be understood as (type, (1,)) / '(1,)type'.\n",
            "  _np_qint32 = np.dtype([(\"qint32\", np.int32, 1)])\n",
            "/home/jose/.local/lib/python3.6/site-packages/tensorflow-2.0.0b1-py3.6-linux-x86_64.egg/tensorflow/python/framework/dtypes.py:525: FutureWarning: Passing (type, 1) or '1type' as a synonym of type is deprecated; in a future version of numpy, it will be understood as (type, (1,)) / '(1,)type'.\n",
            "  np_resource = np.dtype([(\"resource\", np.ubyte, 1)])\n",
            "W0912 16:41:05.362249 139714527495936 plugin_event_accumulator.py:294] Found more than one graph event per run, or there was a metagraph containing a graph_def, as well as one or more graph events.  Overwriting the graph with the newest event.\n",
            "W0912 16:41:05.362440 139714527495936 plugin_event_accumulator.py:322] Found more than one \"run metadata\" event with tag step1. Overwriting it with the newest event.\n",
            "W0912 16:41:05.387140 139714527495936 plugin_event_accumulator.py:294] Found more than one graph event per run, or there was a metagraph containing a graph_def, as well as one or more graph events.  Overwriting the graph with the newest event.\n",
            "W0912 16:41:05.387339 139714527495936 plugin_event_accumulator.py:322] Found more than one \"run metadata\" event with tag step1. Overwriting it with the newest event.\n",
            "TensorBoard 1.14.0a20190603 at http://DESKTOP-DG090DU:6006/ (Press CTRL+C to quit)\n",
            "I0912 16:41:14.809596 139714569504512 _internal.py:122] ::ffff:192.168.3.139 - - [12/Sep/2019 16:41:14] \"\u001b[37mGET / HTTP/1.1\u001b[0m\" 200 -\n",
            "I0912 16:41:15.290410 139714611513088 _internal.py:122] ::ffff:192.168.3.139 - - [12/Sep/2019 16:41:15] \"\u001b[37mGET /font-roboto/oMMgfZMQthOryQo9n22dcuvvDin1pK8aKteLpeZ5c0A.woff2 HTTP/1.1\u001b[0m\" 200 -\n",
            "I0912 16:41:16.454479 139714611513088 _internal.py:122] ::ffff:192.168.3.139 - - [12/Sep/2019 16:41:16] \"\u001b[37mGET /data/environment HTTP/1.1\u001b[0m\" 200 -\n",
            "I0912 16:41:16.455458 139713885374208 _internal.py:122] ::ffff:192.168.3.139 - - [12/Sep/2019 16:41:16] \"\u001b[37mGET /data/runs HTTP/1.1\u001b[0m\" 200 -\n",
            "I0912 16:41:16.458194 139713532790528 _internal.py:122] ::ffff:192.168.3.139 - - [12/Sep/2019 16:41:16] \"\u001b[37mGET /data/experiments HTTP/1.1\u001b[0m\" 200 -\n",
            "I0912 16:41:16.459303 139714569504512 _internal.py:122] ::ffff:192.168.3.139 - - [12/Sep/2019 16:41:16] \"\u001b[37mGET /data/plugins_listing HTTP/1.1\u001b[0m\" 200 -\n",
            "I0912 16:41:16.777714 139714569504512 _internal.py:122] ::ffff:192.168.3.139 - - [12/Sep/2019 16:41:16] \"\u001b[37mGET /data/plugin/images/tags HTTP/1.1\u001b[0m\" 200 -\n",
            "I0912 16:41:16.820231 139714569504512 _internal.py:122] ::ffff:192.168.3.139 - - [12/Sep/2019 16:41:16] \"\u001b[37mGET /font-roboto/RxZJdnzeo3R5zSexge8UUZBw1xU1rKptJj_0jans920.woff2 HTTP/1.1\u001b[0m\" 200 -\n",
            "I0912 16:41:16.959993 139714569504512 _internal.py:122] ::ffff:192.168.3.139 - - [12/Sep/2019 16:41:16] \"\u001b[37mGET /data/plugins_listing HTTP/1.1\u001b[0m\" 200 -\n",
            "I0912 16:41:17.108750 139714569504512 _internal.py:122] ::ffff:192.168.3.139 - - [12/Sep/2019 16:41:17] \"\u001b[37mGET /data/environment HTTP/1.1\u001b[0m\" 200 -\n",
            "I0912 16:41:17.115994 139714569504512 _internal.py:122] ::ffff:192.168.3.139 - - [12/Sep/2019 16:41:17] \"\u001b[37mGET /data/runs HTTP/1.1\u001b[0m\" 200 -\n",
            "I0912 16:41:17.144654 139714569504512 _internal.py:122] ::ffff:192.168.3.139 - - [12/Sep/2019 16:41:17] \"\u001b[37mGET /data/plugin/images/images?run=fashion_mnist_experiment_1&sample=0&tag=four_fashion_mnist_images HTTP/1.1\u001b[0m\" 200 -\n",
            "I0912 16:41:17.175481 139714569504512 _internal.py:122] ::ffff:192.168.3.139 - - [12/Sep/2019 16:41:17] \"\u001b[37mGET /data/experiments HTTP/1.1\u001b[0m\" 200 -\n",
            "I0912 16:41:17.360005 139714569504512 _internal.py:122] ::ffff:192.168.3.139 - - [12/Sep/2019 16:41:17] \"\u001b[37mGET /font-roboto/d-6IYplOFocCacKzxwXSOJBw1xU1rKptJj_0jans920.woff2 HTTP/1.1\u001b[0m\" 200 -\n",
            "I0912 16:41:17.560405 139714569504512 _internal.py:122] ::ffff:192.168.3.139 - - [12/Sep/2019 16:41:17] \"\u001b[37mGET /data/plugin/images/individualImage?ts=1568298935.326244&run=fashion_mnist_experiment_1&tag=four_fashion_mnist_images&sample=0&index=2 HTTP/1.1\u001b[0m\" 200 -\n",
            "I0912 16:41:17.567586 139714569504512 _internal.py:122] ::ffff:192.168.3.139 - - [12/Sep/2019 16:41:17] \"\u001b[37mGET /data/plugin/images/tags HTTP/1.1\u001b[0m\" 200 -\n",
            "I0912 16:41:17.609174 139714569504512 _internal.py:122] ::ffff:192.168.3.139 - - [12/Sep/2019 16:41:17] \"\u001b[37mGET /data/plugin/images/images?run=fashion_mnist_experiment_1&sample=0&tag=four_fashion_mnist_images HTTP/1.1\u001b[0m\" 200 -\n",
            "I0912 16:41:19.504795 139713532790528 _internal.py:122] ::ffff:192.168.3.139 - - [12/Sep/2019 16:41:19] \"\u001b[37mGET /data/plugin/graphs/info HTTP/1.1\u001b[0m\" 200 -\n",
            "I0912 16:41:19.507698 139714569504512 _internal.py:122] ::ffff:192.168.3.139 - - [12/Sep/2019 16:41:19] \"\u001b[37mGET /data/plugins_listing HTTP/1.1\u001b[0m\" 200 -\n",
            "I0912 16:41:19.653373 139714569504512 _internal.py:122] ::ffff:192.168.3.139 - - [12/Sep/2019 16:41:19] \"\u001b[37mGET /data/plugin/graphs/graph?run=fashion_mnist_experiment_1&conceptual=false HTTP/1.1\u001b[0m\" 200 -\n",
            "I0912 16:41:22.785559 139714569504512 _internal.py:122] ::ffff:192.168.3.139 - - [12/Sep/2019 16:41:22] \"\u001b[37mGET / HTTP/1.1\u001b[0m\" 200 -\n",
            "I0912 16:41:40.157496 139714569504512 _internal.py:122] ::ffff:192.168.3.139 - - [12/Sep/2019 16:41:40] \"\u001b[37mGET /data/plugin/graphs/run_metadata?tag=step1&run=fashion_mnist_experiment_1 HTTP/1.1\u001b[0m\" 200 -\n",
            "I0912 16:41:42.419974 139714569504512 _internal.py:122] ::ffff:192.168.3.139 - - [12/Sep/2019 16:41:42] \"\u001b[37mGET /data/plugin/graphs/graph?run=fashion_mnist_experiment_1&conceptual=false HTTP/1.1\u001b[0m\" 200 -\n",
            "I0912 16:41:46.959482 139714611513088 _internal.py:122] ::ffff:192.168.3.139 - - [12/Sep/2019 16:41:46] \"\u001b[37mGET /data/experiments HTTP/1.1\u001b[0m\" 200 -\n",
            "I0912 16:41:46.960275 139713532790528 _internal.py:122] ::ffff:192.168.3.139 - - [12/Sep/2019 16:41:46] \"\u001b[37mGET /data/environment HTTP/1.1\u001b[0m\" 200 -\n",
            "I0912 16:41:46.961215 139713885374208 _internal.py:122] ::ffff:192.168.3.139 - - [12/Sep/2019 16:41:46] \"\u001b[37mGET /data/runs HTTP/1.1\u001b[0m\" 200 -\n",
            "I0912 16:41:46.963620 139714569504512 _internal.py:122] ::ffff:192.168.3.139 - - [12/Sep/2019 16:41:46] \"\u001b[37mGET /data/plugins_listing HTTP/1.1\u001b[0m\" 200 -\n",
            "I0912 16:41:46.971937 139714569504512 _internal.py:122] ::ffff:192.168.3.139 - - [12/Sep/2019 16:41:46] \"\u001b[37mGET /data/plugin/images/tags HTTP/1.1\u001b[0m\" 200 -\n",
            "I0912 16:41:46.977607 139714569504512 _internal.py:122] ::ffff:192.168.3.139 - - [12/Sep/2019 16:41:46] \"\u001b[37mGET /data/plugin/images/images?run=fashion_mnist_experiment_1&sample=0&tag=four_fashion_mnist_images HTTP/1.1\u001b[0m\" 200 -\n"
          ],
          "name": "stdout"
        }
      ]
    },
    {
      "cell_type": "code",
      "metadata": {
        "id": "H8O9zdr3Fpmx",
        "colab_type": "code",
        "colab": {}
      },
      "source": [
        "from torch.utils.tensorboard import SummaryWriter"
      ],
      "execution_count": 0,
      "outputs": []
    },
    {
      "cell_type": "code",
      "metadata": {
        "id": "jTtz3nfQFpm2",
        "colab_type": "code",
        "colab": {}
      },
      "source": [
        ""
      ],
      "execution_count": 0,
      "outputs": []
    }
  ]
}