{
  "nbformat": 4,
  "nbformat_minor": 0,
  "metadata": {
    "colab": {
      "name": "Welcome To Colaboratory",
      "provenance": [],
      "collapsed_sections": [],
      "toc_visible": true
    },
    "kernelspec": {
      "display_name": "Python 3",
      "name": "python3"
    }
  },
  "cells": [
    {
      "cell_type": "markdown",
      "metadata": {
        "id": "LWjUJU_plN4l",
        "colab_type": "text"
      },
      "source": [
        "## MNIST example with PyTorch and visualizations"
      ]
    },
    {
      "cell_type": "code",
      "metadata": {
        "id": "Cls6U5XgVxX4",
        "colab_type": "code",
        "colab": {}
      },
      "source": [
        "import os\n",
        "import torch\n",
        "import torch.nn as nn\n",
        "from torch.autograd import Variable\n",
        "import torchvision.datasets as dset\n",
        "import torchvision.transforms as transforms\n",
        "import torch.nn.functional as F\n",
        "import torch.optim as optim\n",
        "import matplotlib.pyplot as plt\n",
        "import numpy as np"
      ],
      "execution_count": 0,
      "outputs": []
    },
    {
      "cell_type": "code",
      "metadata": {
        "id": "azgv_NexVyY4",
        "colab_type": "code",
        "colab": {}
      },
      "source": [
        "# set variables\n",
        "numClasses = 10\n",
        "learning_rate = 0.1\n",
        "n_epochs = 3\n",
        "root = './data'\n",
        "batch_size_test = 1000\n",
        "batch_size_train = 64\n",
        "momentum = .5\n",
        "seed = 1\n",
        "log_interval = 100"
      ],
      "execution_count": 0,
      "outputs": []
    },
    {
      "cell_type": "code",
      "metadata": {
        "id": "U--zFeMcmESh",
        "colab_type": "code",
        "colab": {}
      },
      "source": [
        "# It's also worth mentioning that cuDNN uses nondeterministic algorithms which can be disabled setting :\n",
        "# torch.backends.cudnn.enabled = False."
      ],
      "execution_count": 0,
      "outputs": []
    },
    {
      "cell_type": "code",
      "metadata": {
        "id": "5DO5G-enVydZ",
        "colab_type": "code",
        "colab": {
          "base_uri": "https://localhost:8080/",
          "height": 34
        },
        "outputId": "85b95e6b-ee17-4ab5-ef66-3b08349281c1"
      },
      "source": [
        "# set our data transform\n",
        "trans = transforms.Compose(\n",
        "    [transforms.ToTensor(), \n",
        "     transforms.Normalize((0.5,), (1.0,))])\n",
        "\n",
        "# Load PyTorch's built in MNIST data set and apply the above tranform.\n",
        "train_set = dset.MNIST(root=root, train=True, transform=trans, download=True)\n",
        "test_set = dset.MNIST(root=root, train=False, transform=trans, download=True)\n",
        "\n",
        "# Set up dataloaders which help batch and shuffle data.\n",
        "train_loader = torch.utils.data.DataLoader( train_set,\n",
        "  batch_size=batch_size_train, shuffle=True)\n",
        "print(type(train_loader))\n",
        "\n",
        "test_loader = torch.utils.data.DataLoader( test_set,\n",
        "  batch_size=batch_size_test, shuffle=True)\n"
      ],
      "execution_count": 75,
      "outputs": [
        {
          "output_type": "stream",
          "text": [
            "<class 'torch.utils.data.dataloader.DataLoader'>\n"
          ],
          "name": "stdout"
        }
      ]
    },
    {
      "cell_type": "code",
      "metadata": {
        "id": "dhIzABFgVyjZ",
        "colab_type": "code",
        "colab": {}
      },
      "source": [
        "# Sanity check of dataset sizes and shape\n",
        "examples = enumerate(test_loader)\n",
        "batch_idx, (example_data, example_targets) = next(examples)"
      ],
      "execution_count": 0,
      "outputs": []
    },
    {
      "cell_type": "code",
      "metadata": {
        "id": "zcqz7b6xp2TZ",
        "colab_type": "code",
        "colab": {
          "base_uri": "https://localhost:8080/",
          "height": 51
        },
        "outputId": "4459631d-56a5-4277-a1ea-a49137c764a6"
      },
      "source": [
        "# Print example of from dataset\n",
        "print(test_loader.dataset[0][0].shape)\n",
        "print(test_loader.dataset[0][1])"
      ],
      "execution_count": 104,
      "outputs": [
        {
          "output_type": "stream",
          "text": [
            "torch.Size([1, 28, 28])\n",
            "7\n"
          ],
          "name": "stdout"
        }
      ]
    },
    {
      "cell_type": "code",
      "metadata": {
        "id": "B0QmvUGwVybN",
        "colab_type": "code",
        "colab": {
          "base_uri": "https://localhost:8080/",
          "height": 85
        },
        "outputId": "1f3f54e0-e7e2-4b93-9afc-167558111ad1"
      },
      "source": [
        "print(len(test_loader.dataset)) # 10000\n",
        "print(len(train_loader.dataset)) # 60000\n",
        "print(next(examples)[1][0].shape) # check shape of data images\n",
        "\n",
        "print('One batch of data has the shape: ', example_data.shape)"
      ],
      "execution_count": 77,
      "outputs": [
        {
          "output_type": "stream",
          "text": [
            "10000\n",
            "60000\n",
            "torch.Size([1000, 1, 28, 28])\n",
            "One batch of data has the shape:  torch.Size([1000, 1, 28, 28])\n"
          ],
          "name": "stdout"
        }
      ]
    },
    {
      "cell_type": "code",
      "metadata": {
        "id": "q8hoFjBjWJP5",
        "colab_type": "code",
        "colab": {
          "base_uri": "https://localhost:8080/",
          "height": 551
        },
        "outputId": "efc01d8c-1d1a-42d5-8ea3-d46376f59f3f"
      },
      "source": [
        "# Display a few MNIST images and their true values with matplotlib\n",
        "fig = plt.figure()\n",
        "for i in range(6):\n",
        "  plt.subplot(2,3,i+1)\n",
        "  plt.tight_layout()\n",
        "  plt.imshow(example_data[i][0], cmap='gray', interpolation='none')\n",
        "  plt.title(\"True Value: {}\".format(example_targets[i]))\n",
        "  plt.xticks([])\n",
        "  plt.yticks([])\n",
        "fig"
      ],
      "execution_count": 78,
      "outputs": [
        {
          "output_type": "execute_result",
          "data": {
            "image/png": "[encoded data removed]",
            "text/plain": [
              "<Figure size 432x288 with 6 Axes>"
            ]
          },
          "metadata": {
            "tags": []
          },
          "execution_count": 78
        },
        {
          "output_type": "display_data",
          "data": {
            "image/png": "[encoded data removed]",
            "text/plain": [
              "<Figure size 432x288 with 6 Axes>"
            ]
          },
          "metadata": {
            "tags": []
          }
        }
      ]
    },
    {
      "cell_type": "code",
      "metadata": {
        "id": "y_rbFbmiWJUM",
        "colab_type": "code",
        "colab": {}
      },
      "source": [
        "# Network 1\n",
        "class Net_1(nn.Module):\n",
        "    def __init__(self):\n",
        "        super(Net, self).__init__()\n",
        "        self.conv1 = nn.Conv2d(1, 10, kernel_size=5) # Convolutional Layer\n",
        "        self.conv2 = nn.Conv2d(10, 20, kernel_size=5)\n",
        "        self.conv2_drop = nn.Dropout2d()\n",
        "        self.fc1 = nn.Linear(320, 50) # Fully Connected Layer\n",
        "        self.fc2 = nn.Linear(50, 10)\n",
        "\n",
        "    def forward(self, x):\n",
        "        x = F.relu(F.max_pool2d(self.conv1(x), 2))\n",
        "        x = F.relu(F.max_pool2d(self.conv2_drop(self.conv2(x)), 2))\n",
        "        x = x.view(-1, 320)\n",
        "        x = F.relu(self.fc1(x))\n",
        "        x = F.dropout(x, training=self.training)\n",
        "        x = self.fc2(x)\n",
        "        return F.log_softmax(x)\n",
        "\n",
        "# Another Network\n",
        "class Net_2(nn.Module):\n",
        "    def __init__(self):\n",
        "        super(Net_2, self).__init__()\n",
        "        self.fc1 = nn.Linear(784, 512)\n",
        "        self.fc2 = nn.Linear(512, 10)\n",
        "\n",
        "    def forward(self, x):\n",
        "        x = x.view(-1, 28*28)  # resizing to be a 1x784 tensor\n",
        "        x = F.relu(self.fc1(x))\n",
        "        x = F.dropout(x, training=self.training)\n",
        "        x = self.fc2(x)\n",
        "        return F.log_softmax(x)\n",
        "\n",
        "network = Net_2()\n",
        "optimizer = optim.SGD(network.parameters(), \n",
        "                      lr=learning_rate,\n",
        "                      momentum=momentum)"
      ],
      "execution_count": 0,
      "outputs": []
    },
    {
      "cell_type": "markdown",
      "metadata": {
        "id": "8QXiLSU-r6pM",
        "colab_type": "text"
      },
      "source": [
        "We will use `nll_loss` - negative likelihood\n",
        "https://pytorch.org/docs/stable/nn.functional.html#torch.nn.functional.nll_loss"
      ]
    },
    {
      "cell_type": "code",
      "metadata": {
        "id": "tjTrospxQUed",
        "colab_type": "code",
        "colab": {}
      },
      "source": [
        "train_losses = []\n",
        "train_counter = []\n",
        "test_losses = []\n",
        "test_counter = [i*len(train_loader.dataset) for i in range(n_epochs + 1)]\n",
        "\n",
        "# Train the network for a given number of epochs\n",
        "def train(epoch):\n",
        "  network.train()\n",
        "  for batch_idx, (data, target) in enumerate(train_loader):\n",
        "    optimizer.zero_grad()\n",
        "    output = network(data)\n",
        "    loss = F.nll_loss(output, target)\n",
        "    loss.backward()\n",
        "    optimizer.step()\n",
        "    if batch_idx % log_interval == 0:\n",
        "      print('Train Epoch: {} [{}/{} ({:.0f}%)]\\tLoss: {:.6f}'.format(\n",
        "        epoch, batch_idx * len(data), len(train_loader.dataset),\n",
        "        100. * batch_idx / len(train_loader), loss.item()))\n",
        "      train_losses.append(loss.item())\n",
        "      train_counter.append(\n",
        "        (batch_idx*64) + ((epoch-1)*len(train_loader.dataset)))\n",
        "      torch.save(network.state_dict(), 'results/model.pth')\n",
        "      torch.save(optimizer.state_dict(), 'results/optimizer.pth')\n",
        "\n",
        "# test the network\n",
        "def test(test_losses):\n",
        "  network.eval()\n",
        "  test_loss = 0\n",
        "  correct = 0\n",
        "  with torch.no_grad():\n",
        "    for data, target in test_loader:\n",
        "      output = network(data)\n",
        "      test_loss += F.nll_loss(output, target, size_average=False).item()\n",
        "      pred = output.data.max(1, keepdim=True)[1]\n",
        "      correct += pred.eq(target.data.view_as(pred)).sum()\n",
        "  test_loss /= len(test_loader.dataset)\n",
        "  test_losses.append(test_loss)\n",
        "  print('In our test set, we should expect around 10% accuracy.')\n",
        "  print('\\nTest set: Avg. loss: {:.4f}, Accuracy: {}/{} ({:.0f}%)\\n'.format(\n",
        "    test_loss, correct, len(test_loader.dataset),\n",
        "    100. * correct / len(test_loader.dataset)))\n",
        "  return test_losses"
      ],
      "execution_count": 0,
      "outputs": []
    },
    {
      "cell_type": "markdown",
      "metadata": {
        "id": "X6JlTC0BtEUN",
        "colab_type": "text"
      },
      "source": [
        "Using the context manager no_grad() we can avoid storing the computations done producing the output of our network in the computation graph."
      ]
    },
    {
      "cell_type": "code",
      "metadata": {
        "id": "rXtoOE4MYyHE",
        "colab_type": "code",
        "colab": {
          "base_uri": "https://localhost:8080/",
          "height": 34
        },
        "outputId": "68067245-e40d-409e-b24c-68ce3ee3da52"
      },
      "source": [
        "!mkdir results"
      ],
      "execution_count": 83,
      "outputs": [
        {
          "output_type": "stream",
          "text": [
            "mkdir: cannot create directory ‘results’: File exists\n"
          ],
          "name": "stdout"
        }
      ]
    },
    {
      "cell_type": "code",
      "metadata": {
        "id": "FXg2I9bMQUiW",
        "colab_type": "code",
        "colab": {
          "base_uri": "https://localhost:8080/",
          "height": 156
        },
        "outputId": "ff46b6f1-51ae-4070-ec82-23f646d640b0"
      },
      "source": [
        "# Get a baseline by running the network on our test data without training\n",
        "test_losses = test(test_losses)"
      ],
      "execution_count": 84,
      "outputs": [
        {
          "output_type": "stream",
          "text": [
            "/usr/local/lib/python3.6/dist-packages/ipykernel_launcher.py:31: UserWarning: Implicit dimension choice for log_softmax has been deprecated. Change the call to include dim=X as an argument.\n",
            "/usr/local/lib/python3.6/dist-packages/torch/nn/_reduction.py:43: UserWarning: size_average and reduce args will be deprecated, please use reduction='sum' instead.\n",
            "  warnings.warn(warning.format(ret))\n"
          ],
          "name": "stderr"
        },
        {
          "output_type": "stream",
          "text": [
            "In our test set, we should expect around 10% accuracy.\n",
            "\n",
            "Test set: Avg. loss: 2.3019, Accuracy: 1049/10000 (10%)\n",
            "\n"
          ],
          "name": "stdout"
        }
      ]
    },
    {
      "cell_type": "code",
      "metadata": {
        "id": "3f_EMYQPQUoi",
        "colab_type": "code",
        "colab": {
          "base_uri": "https://localhost:8080/",
          "height": 802
        },
        "outputId": "ae246af7-596e-4183-e66e-3899917fab54"
      },
      "source": [
        "# Train the network and run the test again for the number of epochs specified\n",
        "for epoch in range(1, n_epochs + 1):\n",
        "  train(epoch)\n",
        "  test_losses = test(test_losses)"
      ],
      "execution_count": 85,
      "outputs": [
        {
          "output_type": "stream",
          "text": [
            "Train Epoch: 1 [0/60000 (0%)]\tLoss: 2.343606\n"
          ],
          "name": "stdout"
        },
        {
          "output_type": "stream",
          "text": [
            "/usr/local/lib/python3.6/dist-packages/ipykernel_launcher.py:31: UserWarning: Implicit dimension choice for log_softmax has been deprecated. Change the call to include dim=X as an argument.\n"
          ],
          "name": "stderr"
        },
        {
          "output_type": "stream",
          "text": [
            "Train Epoch: 1 [6400/60000 (11%)]\tLoss: 0.396508\n",
            "Train Epoch: 1 [12800/60000 (21%)]\tLoss: 0.468591\n",
            "Train Epoch: 1 [19200/60000 (32%)]\tLoss: 0.386335\n",
            "Train Epoch: 1 [25600/60000 (43%)]\tLoss: 0.457204\n",
            "Train Epoch: 1 [32000/60000 (53%)]\tLoss: 0.341786\n",
            "Train Epoch: 1 [38400/60000 (64%)]\tLoss: 0.370074\n",
            "Train Epoch: 1 [44800/60000 (75%)]\tLoss: 0.358221\n",
            "Train Epoch: 1 [51200/60000 (85%)]\tLoss: 0.311048\n",
            "Train Epoch: 1 [57600/60000 (96%)]\tLoss: 0.221121\n"
          ],
          "name": "stdout"
        },
        {
          "output_type": "stream",
          "text": [
            "/usr/local/lib/python3.6/dist-packages/torch/nn/_reduction.py:43: UserWarning: size_average and reduce args will be deprecated, please use reduction='sum' instead.\n",
            "  warnings.warn(warning.format(ret))\n"
          ],
          "name": "stderr"
        },
        {
          "output_type": "stream",
          "text": [
            "In our test set, we should expect around 10% accuracy.\n",
            "\n",
            "Test set: Avg. loss: 0.2159, Accuracy: 9322/10000 (93%)\n",
            "\n",
            "Train Epoch: 2 [0/60000 (0%)]\tLoss: 0.270828\n",
            "Train Epoch: 2 [6400/60000 (11%)]\tLoss: 0.177350\n",
            "Train Epoch: 2 [12800/60000 (21%)]\tLoss: 0.176469\n",
            "Train Epoch: 2 [19200/60000 (32%)]\tLoss: 0.356457\n",
            "Train Epoch: 2 [25600/60000 (43%)]\tLoss: 0.241656\n",
            "Train Epoch: 2 [32000/60000 (53%)]\tLoss: 0.119711\n",
            "Train Epoch: 2 [38400/60000 (64%)]\tLoss: 0.133939\n",
            "Train Epoch: 2 [44800/60000 (75%)]\tLoss: 0.219937\n",
            "Train Epoch: 2 [51200/60000 (85%)]\tLoss: 0.263923\n",
            "Train Epoch: 2 [57600/60000 (96%)]\tLoss: 0.156814\n",
            "In our test set, we should expect around 10% accuracy.\n",
            "\n",
            "Test set: Avg. loss: 0.1496, Accuracy: 9551/10000 (95%)\n",
            "\n",
            "Train Epoch: 3 [0/60000 (0%)]\tLoss: 0.095384\n",
            "Train Epoch: 3 [6400/60000 (11%)]\tLoss: 0.310517\n",
            "Train Epoch: 3 [12800/60000 (21%)]\tLoss: 0.390308\n",
            "Train Epoch: 3 [19200/60000 (32%)]\tLoss: 0.217708\n",
            "Train Epoch: 3 [25600/60000 (43%)]\tLoss: 0.424305\n",
            "Train Epoch: 3 [32000/60000 (53%)]\tLoss: 0.051017\n",
            "Train Epoch: 3 [38400/60000 (64%)]\tLoss: 0.202621\n",
            "Train Epoch: 3 [44800/60000 (75%)]\tLoss: 0.091950\n",
            "Train Epoch: 3 [51200/60000 (85%)]\tLoss: 0.190362\n",
            "Train Epoch: 3 [57600/60000 (96%)]\tLoss: 0.227265\n",
            "In our test set, we should expect around 10% accuracy.\n",
            "\n",
            "Test set: Avg. loss: 0.1285, Accuracy: 9608/10000 (96%)\n",
            "\n"
          ],
          "name": "stdout"
        }
      ]
    },
    {
      "cell_type": "code",
      "metadata": {
        "id": "JiMIYt2eQUus",
        "colab_type": "code",
        "colab": {
          "base_uri": "https://localhost:8080/",
          "height": 588
        },
        "outputId": "dc299a18-7a4f-489d-9eb0-fff96ed723a8"
      },
      "source": [
        "with torch.no_grad():\n",
        "  output = network(example_data)\n",
        "\n",
        "fig = plt.figure()\n",
        "for i in range(6):\n",
        "  plt.subplot(2,3,i+1)\n",
        "  plt.tight_layout()\n",
        "  plt.imshow(example_data[i][0], cmap='gray', interpolation='none')\n",
        "  plt.title(\"Prediction: {}\".format(\n",
        "    output.data.max(1, keepdim=True)[1][i].item()))\n",
        "  plt.xticks([])\n",
        "  plt.yticks([])\n",
        "fig"
      ],
      "execution_count": 87,
      "outputs": [
        {
          "output_type": "stream",
          "text": [
            "/usr/local/lib/python3.6/dist-packages/ipykernel_launcher.py:31: UserWarning: Implicit dimension choice for log_softmax has been deprecated. Change the call to include dim=X as an argument.\n"
          ],
          "name": "stderr"
        },
        {
          "output_type": "execute_result",
          "data": {
            "image/png": "[encoded data removed]",
            "text/plain": [
              "<Figure size 432x288 with 6 Axes>"
            ]
          },
          "metadata": {
            "tags": []
          },
          "execution_count": 87
        },
        {
          "output_type": "display_data",
          "data": {
            "image/png": "[encoded data removed]",
            "text/plain": [
              "<Figure size 432x288 with 6 Axes>"
            ]
          },
          "metadata": {
            "tags": []
          }
        }
      ]
    },
    {
      "cell_type": "code",
      "metadata": {
        "id": "XUbBlE3vQUsq",
        "colab_type": "code",
        "colab": {
          "base_uri": "https://localhost:8080/",
          "height": 241
        },
        "outputId": "e5b73e00-65e6-4977-9584-15a0ba49fd7f"
      },
      "source": [
        "test(test_losses[:])"
      ],
      "execution_count": 88,
      "outputs": [
        {
          "output_type": "stream",
          "text": [
            "/usr/local/lib/python3.6/dist-packages/ipykernel_launcher.py:31: UserWarning: Implicit dimension choice for log_softmax has been deprecated. Change the call to include dim=X as an argument.\n",
            "/usr/local/lib/python3.6/dist-packages/torch/nn/_reduction.py:43: UserWarning: size_average and reduce args will be deprecated, please use reduction='sum' instead.\n",
            "  warnings.warn(warning.format(ret))\n"
          ],
          "name": "stderr"
        },
        {
          "output_type": "stream",
          "text": [
            "In our test set, we should expect around 10% accuracy.\n",
            "\n",
            "Test set: Avg. loss: 0.1285, Accuracy: 9608/10000 (96%)\n",
            "\n"
          ],
          "name": "stdout"
        },
        {
          "output_type": "execute_result",
          "data": {
            "text/plain": [
              "[2.30194189453125,\n",
              " 0.21594119873046874,\n",
              " 0.1496247901916504,\n",
              " 0.12849817962646484,\n",
              " 0.12849817123413085]"
            ]
          },
          "metadata": {
            "tags": []
          },
          "execution_count": 88
        }
      ]
    },
    {
      "cell_type": "code",
      "metadata": {
        "id": "5n1yq9dHQUnC",
        "colab_type": "code",
        "colab": {
          "base_uri": "https://localhost:8080/",
          "height": 283
        },
        "outputId": "aea9dc52-56c7-4b28-8b9e-2cc69045e0c3"
      },
      "source": [
        "fig = plt.figure()\n",
        "plt.plot(train_counter, train_losses, color='blue')\n",
        "plt.scatter(test_counter, test_losses, color='red')\n",
        "plt.legend(['Train loss', 'Test loss'], loc='upper right')\n",
        "plt.xlabel('number of training examples seen')\n",
        "plt.ylabel('negative log likelihood loss')\n",
        "plt.show()"
      ],
      "execution_count": 89,
      "outputs": [
        {
          "output_type": "display_data",
          "data": {
            "image/png": "[encoded data removed]",
            "text/plain": [
              "<Figure size 432x288 with 1 Axes>"
            ]
          },
          "metadata": {
            "tags": []
          }
        }
      ]
    },
    {
      "cell_type": "markdown",
      "metadata": {
        "id": "XomP_vnmXN8K",
        "colab_type": "text"
      },
      "source": [
        "## Continued Training from Checkpoints"
      ]
    },
    {
      "cell_type": "code",
      "metadata": {
        "id": "JNXyhgMhXOrl",
        "colab_type": "code",
        "colab": {}
      },
      "source": [
        "continued_network = Net_2()\n",
        "continued_optimizer = optim.SGD(network.parameters(), lr=learning_rate, momentum=momentum)"
      ],
      "execution_count": 0,
      "outputs": []
    },
    {
      "cell_type": "markdown",
      "metadata": {
        "id": "ZnfblFktYUwv",
        "colab_type": "text"
      },
      "source": [
        "Using .load_state_dict() we can now load the internal state of the network and optimizer when we last saved them."
      ]
    },
    {
      "cell_type": "code",
      "metadata": {
        "id": "xTIRcxseYRNR",
        "colab_type": "code",
        "colab": {}
      },
      "source": [
        "network_state_dict = torch.load('results/model.pth')\n",
        "continued_network.load_state_dict(network_state_dict)\n",
        "\n",
        "optimizer_state_dict = torch.load('results/optimizer.pth')\n",
        "continued_optimizer.load_state_dict(optimizer_state_dict)"
      ],
      "execution_count": 0,
      "outputs": []
    },
    {
      "cell_type": "markdown",
      "metadata": {
        "id": "GWc02YHka7eA",
        "colab_type": "text"
      },
      "source": [
        "Again running a training loop should immediately pick up the training where we left it. To check on that let's simply use the same lists as before to keep track of the loss values. Due to the way we constructed the test counter for the number of training examples seen we manually have to append to it here."
      ]
    },
    {
      "cell_type": "code",
      "metadata": {
        "id": "wEH_BkbXYq1D",
        "colab_type": "code",
        "colab": {
          "base_uri": "https://localhost:8080/",
          "height": 326
        },
        "outputId": "73866e64-1b07-49e3-d072-69af004d8258"
      },
      "source": [
        "for i in range(4, 5):\n",
        "  test_counter.append(i * len(train_loader.dataset))\n",
        "  train(i)\n",
        "  test_losses = test(test_losses)"
      ],
      "execution_count": 92,
      "outputs": [
        {
          "output_type": "stream",
          "text": [
            "/usr/local/lib/python3.6/dist-packages/ipykernel_launcher.py:31: UserWarning: Implicit dimension choice for log_softmax has been deprecated. Change the call to include dim=X as an argument.\n"
          ],
          "name": "stderr"
        },
        {
          "output_type": "stream",
          "text": [
            "Train Epoch: 4 [0/60000 (0%)]\tLoss: 0.136329\n",
            "Train Epoch: 4 [6400/60000 (11%)]\tLoss: 0.119865\n",
            "Train Epoch: 4 [12800/60000 (21%)]\tLoss: 0.080541\n",
            "Train Epoch: 4 [19200/60000 (32%)]\tLoss: 0.383641\n",
            "Train Epoch: 4 [25600/60000 (43%)]\tLoss: 0.089956\n",
            "Train Epoch: 4 [32000/60000 (53%)]\tLoss: 0.120951\n",
            "Train Epoch: 4 [38400/60000 (64%)]\tLoss: 0.146478\n",
            "Train Epoch: 4 [44800/60000 (75%)]\tLoss: 0.351907\n",
            "Train Epoch: 4 [51200/60000 (85%)]\tLoss: 0.136387\n",
            "Train Epoch: 4 [57600/60000 (96%)]\tLoss: 0.090757\n"
          ],
          "name": "stdout"
        },
        {
          "output_type": "stream",
          "text": [
            "/usr/local/lib/python3.6/dist-packages/torch/nn/_reduction.py:43: UserWarning: size_average and reduce args will be deprecated, please use reduction='sum' instead.\n",
            "  warnings.warn(warning.format(ret))\n"
          ],
          "name": "stderr"
        },
        {
          "output_type": "stream",
          "text": [
            "In our test set, we should expect around 10% accuracy.\n",
            "\n",
            "Test set: Avg. loss: 0.1037, Accuracy: 9686/10000 (96%)\n",
            "\n"
          ],
          "name": "stdout"
        }
      ]
    },
    {
      "cell_type": "markdown",
      "metadata": {
        "id": "SARIdUVJbrle",
        "colab_type": "text"
      },
      "source": [
        "Great! We again see a (much slower) increase in test set accuracy from epoch to epoch. Let's visualize this to further inspect the training progress."
      ]
    },
    {
      "cell_type": "code",
      "metadata": {
        "id": "MbN5S6VEbIBN",
        "colab_type": "code",
        "colab": {
          "base_uri": "https://localhost:8080/",
          "height": 283
        },
        "outputId": "567b0cc8-5601-4394-e6b7-e59004822651"
      },
      "source": [
        "fig = plt.figure()\n",
        "plt.plot(train_counter, train_losses, color='blue')\n",
        "plt.scatter(test_counter, test_losses, color='red')\n",
        "plt.legend(['Train loss', 'Test loss'], loc='upper right')\n",
        "plt.xlabel('number of training examples seen')\n",
        "plt.ylabel('negative log likelihood loss')\n",
        "plt.show()"
      ],
      "execution_count": 94,
      "outputs": [
        {
          "output_type": "display_data",
          "data": {
            "image/png": "[encoded data removed]",
            "text/plain": [
              "<Figure size 432x288 with 1 Axes>"
            ]
          },
          "metadata": {
            "tags": []
          }
        }
      ]
    },
    {
      "cell_type": "code",
      "metadata": {
        "id": "dvL7uSIHcyuv",
        "colab_type": "code",
        "colab": {}
      },
      "source": [
        ""
      ],
      "execution_count": 0,
      "outputs": []
    }
  ]
}